{
 "cells": [
  {
   "cell_type": "markdown",
   "metadata": {
    "id": "0pfoNjJ9OAkL"
   },
   "source": [
    "* **Author: Murat Ali Avcu**\n",
    "* **Github: https://github.com/muratali016**\n",
    "* **After you copy this Colab notebook to your drive, you will be able to use it**"
   ]
  },
  {
   "cell_type": "raw",
   "metadata": {},
   "source": [
    "%!python detect.py --weights best_cigarette.pt --conf 0.1 --source /content/Yolov7-cigarette-censor-and-smokers-face-recorder/example_img.jpg --cigarette_blurrate 50 --shape_detector /content/Yolov7-cigarette-censor-and-smokers-face-recorder/shape_predictor_68_face_landmarks.dat"
   ]
  },
  {
   "cell_type": "code",
   "execution_count": null,
   "metadata": {},
   "outputs": [],
   "source": [
    "##  Navigate to main directory ..\n",
    "# %cd /content/Yolov7-cigarette-censor-and-smokers-face-recorder"
   ]
  },
  {
   "cell_type": "code",
   "execution_count": 1,
   "metadata": {
    "colab": {
     "base_uri": "https://localhost:8080/"
    },
    "id": "drqk7sjOP8Wq",
    "outputId": "4cb8d41e-a620-4a54-bd43-5d315109ad92",
    "scrolled": true
   },
   "outputs": [
    {
     "ename": "ModuleNotFoundError",
     "evalue": "No module named 'dlib'",
     "output_type": "error",
     "traceback": [
      "\u001b[1;31m---------------------------------------------------------------------------\u001b[0m",
      "\u001b[1;31mModuleNotFoundError\u001b[0m                       Traceback (most recent call last)",
      "Input \u001b[1;32mIn [1]\u001b[0m, in \u001b[0;36m<cell line: 2>\u001b[1;34m()\u001b[0m\n\u001b[0;32m      1\u001b[0m \u001b[38;5;66;03m##  Running inference ..\u001b[39;00m\n\u001b[1;32m----> 2\u001b[0m \u001b[38;5;28;01mimport\u001b[39;00m \u001b[38;5;21;01mdlib\u001b[39;00m\n\u001b[0;32m      4\u001b[0m get_ipython()\u001b[38;5;241m.\u001b[39msystem(\u001b[38;5;124m'\u001b[39m\u001b[38;5;124mpython detect.py --weights best_cigarette.pt --conf 0.1 --source /content/Yolov7-cigarette-censor-and-smokers-face-recorder/example_img.jpg--cigarette_blurrate 50 --shape_detector/content/Yolov7-cigarette-censor-and-smokers-face-recorder/shape_predictor_68_face_landmarks.dat\u001b[39m\u001b[38;5;124m'\u001b[39m)\n",
      "\u001b[1;31mModuleNotFoundError\u001b[0m: No module named 'dlib'"
     ]
    }
   ],
   "source": [
    "##  Running inference ..\n",
    "import dlib\n",
    "\n",
    "!python detect.py --weights best_cigarette.pt --conf 0.1 --source /content/Yolov7-cigarette-censor-and-smokers-face-recorder/example_img.jpg--cigarette_blurrate 50 --shape_detector/content/Yolov7-cigarette-censor-and-smokers-face-recorder/shape_predictor_68_face_landmarks.dat "
   ]
  },
  {
   "cell_type": "markdown",
   "metadata": {
    "id": "KoJuDNqNRfK7"
   },
   "source": [
    "* **Smokers' faces saved in the folder = \"/content/Yolov7-cigarette-censor-and-smokers-face-recorder/smokers_faces\"**"
   ]
  },
  {
   "cell_type": "code",
   "execution_count": null,
   "metadata": {
    "id": "4A0e7l1xQ8r4"
   },
   "outputs": [],
   "source": [
    "import glob\n",
    "from IPython.display import Image, display\n",
    "\n",
    "i = 0\n",
    "limit = 10\n",
    "for imageName in glob.glob('/content/drive/MyDrive/yolo_cigarette/runs/detect/exp/*.jpg'):\n",
    "    if i < limit:\n",
    "      display(Image(filename=imageName))\n",
    "      print(\"\\n\")\n",
    "    i = i + 1"
   ]
  },
  {
   "cell_type": "markdown",
   "metadata": {
    "id": "EcceCl7ESj90"
   },
   "source": [
    "**Video inference**"
   ]
  },
  {
   "cell_type": "code",
   "execution_count": 2,
   "metadata": {
    "id": "Jhs49UfwSmTc"
   },
   "outputs": [
    {
     "name": "stderr",
     "output_type": "stream",
     "text": [
      "Traceback (most recent call last):\n",
      "  File \"C:\\Users\\stude\\Desktop\\Vision\\Yolov7-Cigarette-Censor-and-Smoker-s-Faces-Recorder-main\\detect.py\", line 16, in <module>\n",
      "    import dlib\n",
      "ModuleNotFoundError: No module named 'dlib'\n"
     ]
    }
   ],
   "source": [
    "!python detect.py --weights best_cigarette.pt --conf 0.1 --source your_video_path.mp4 --cigarette_blurrate 50 --shape_detector /content/drive/MyDrive/yolo_cigarette/shape_predictor_68_face_landmarks.dat "
   ]
  },
  {
   "cell_type": "code",
   "execution_count": null,
   "metadata": {},
   "outputs": [],
   "source": [
    "!pip install dlib"
   ]
  },
  {
   "cell_type": "code",
   "execution_count": null,
   "metadata": {},
   "outputs": [],
   "source": []
  }
 ],
 "metadata": {
  "accelerator": "GPU",
  "colab": {
   "collapsed_sections": [],
   "name": "Yolov7 Cigarette Censor.ipynb",
   "provenance": []
  },
  "gpuClass": "standard",
  "kernelspec": {
   "display_name": "Python 3 (ipykernel)",
   "language": "python",
   "name": "python3"
  },
  "language_info": {
   "codemirror_mode": {
    "name": "ipython",
    "version": 3
   },
   "file_extension": ".py",
   "mimetype": "text/x-python",
   "name": "python",
   "nbconvert_exporter": "python",
   "pygments_lexer": "ipython3",
   "version": "3.9.0"
  }
 },
 "nbformat": 4,
 "nbformat_minor": 1
}
